{
  "nbformat": 4,
  "nbformat_minor": 0,
  "metadata": {
    "colab": {
      "name": "sudoku.ipynb",
      "provenance": [],
      "collapsed_sections": [],
      "include_colab_link": true
    },
    "kernelspec": {
      "name": "python3",
      "display_name": "Python 3"
    },
    "language_info": {
      "name": "python"
    }
  },
  "cells": [
    {
      "cell_type": "markdown",
      "metadata": {
        "id": "view-in-github",
        "colab_type": "text"
      },
      "source": [
        "<a href=\"https://colab.research.google.com/github/pyANSH/DSA_practical/blob/main/sudoku.ipynb\" target=\"_parent\"><img src=\"https://colab.research.google.com/assets/colab-badge.svg\" alt=\"Open In Colab\"/></a>"
      ]
    },
    {
      "cell_type": "markdown",
      "source": [
        "1. Check blank spaces in the grid.\n",
        "2. If there is a blank space, try number from 1 to 9 ensuring the number is safely placed.\n",
        "## Helper methods\n",
        "Methods defined by the programmer to ease computation and code complexity.\n",
        "- Used in the row.\n",
        "- Used in the column\n",
        "- Used in the sub-grid\n",
        "- `is_safe()` "
      ],
      "metadata": {
        "id": "vUcVzkmc0IxQ"
      }
    },
    {
      "cell_type": "code",
      "source": [
        ""
      ],
      "metadata": {
        "id": "z6cHbqXWQGOx"
      },
      "execution_count": null,
      "outputs": []
    },
    {
      "cell_type": "code",
      "source": [
        "def used_in_row(grid, row, number):\n",
        "  for col in range(0, len(grid)):\n",
        "    if grid[row][col] == number:\n",
        "      return True\n",
        "  return False"
      ],
      "metadata": {
        "id": "06qYCadfPajE"
      },
      "execution_count": 1,
      "outputs": []
    },
    {
      "cell_type": "code",
      "source": [
        "def used_in_col(grid, col, number):\n",
        "  for row in range(0, len(grid)):\n",
        "    if grid[row][col] == number:\n",
        "      return True\n",
        "  return False"
      ],
      "metadata": {
        "id": "3Yok1CRKPdra"
      },
      "execution_count": 2,
      "outputs": []
    },
    {
      "cell_type": "code",
      "source": [
        "def used_in_subgrid(grid, subrow, subcol, number):\n",
        "  for row in range(0,3):\n",
        "    for col in range(0, 3):\n",
        "      if grid[row + subrow][col + subcol] == number:\n",
        "        return True\n",
        "  return False"
      ],
      "metadata": {
        "id": "oO0XGo3SPgYt"
      },
      "execution_count": 3,
      "outputs": []
    },
    {
      "cell_type": "code",
      "source": [
        "def isValid(grid, row, col, number):\n",
        "  if not used_in_row(grid, row, number) and not used_in_col(grid, col, number) and not used_in_subgrid(grid, row- (row%3), col- (col%3), number):\n",
        "    return True"
      ],
      "metadata": {
        "id": "7qJpTal0PjEm"
      },
      "execution_count": 4,
      "outputs": []
    },
    {
      "cell_type": "code",
      "source": [
        "\n",
        "def solveSS(grid):\n",
        "  row = 0\n",
        "  col = 0\n",
        "  check_blank_spaces = False\n",
        "\n",
        "\n",
        "  #traverse the grid to find the blank space\n",
        "  for row in range(0, len(grid)):\n",
        "    for col in range(0, len(grid)):\n",
        "      if grid[row][col] == 0:\n",
        "        check_blank_spaces = True\n",
        "        break\n",
        "    if check_blank_spaces == True:\n",
        "      break\n",
        "  if check_blank_spaces is False:\n",
        "    return True\n",
        "  # start filling the numbers from 1 to 9\n",
        "  for num in range(1,10):\n",
        "    if isValid(grid, row, col, num):\n",
        "      grid[row][col] = num\n",
        "      if solveSS(grid):\n",
        "        return True\n",
        "      grid[row][col] = 0\n",
        "  return False\n",
        "\n"
      ],
      "metadata": {
        "id": "A-M75UTj0pY6"
      },
      "execution_count": 5,
      "outputs": []
    },
    {
      "cell_type": "code",
      "source": [
        ""
      ],
      "metadata": {
        "id": "YCCwL_92LKM8"
      },
      "execution_count": 5,
      "outputs": []
    },
    {
      "cell_type": "code",
      "execution_count": 6,
      "metadata": {
        "id": "ntU0MzWazGG7"
      },
      "outputs": [],
      "source": [
        "def main():\n",
        "  grid= [[3, 0, 6, 5, 0, 8, 4, 0, 0],\n",
        "        [5, 2, 0, 0, 0, 0, 0, 0, 0],\n",
        "        [0, 8, 7, 0, 0, 0, 0, 3, 1],\n",
        "        [0, 0, 3, 0, 1, 0, 0, 8, 0],\n",
        "        [9, 0, 0, 8, 6, 3, 0, 0, 5],\n",
        "        [0, 5, 0, 0, 9, 0, 6, 0, 0],\n",
        "        [1, 3, 0, 0, 0, 0, 2, 5, 0],\n",
        "        [0, 0, 0, 0, 0, 0, 0, 7, 4],\n",
        "        [0, 0, 5, 2, 0, 6, 3, 0, 0]]\n",
        "  \n",
        "  if solveSS(grid):\n",
        "    return grid\n",
        "  print('no solution')\n",
        "    \n"
      ]
    },
    {
      "cell_type": "code",
      "source": [
        "print(main())"
      ],
      "metadata": {
        "colab": {
          "base_uri": "https://localhost:8080/"
        },
        "id": "xPvkOW8oFwHj",
        "outputId": "ef2b436b-ee6e-46e9-f984-95c84d7aa0d3"
      },
      "execution_count": 7,
      "outputs": [
        {
          "output_type": "stream",
          "name": "stdout",
          "text": [
            "[[3, 1, 6, 5, 7, 8, 4, 9, 2], [5, 2, 9, 1, 3, 4, 7, 6, 8], [4, 8, 7, 6, 2, 9, 5, 3, 1], [2, 6, 3, 4, 1, 5, 9, 8, 7], [9, 7, 4, 8, 6, 3, 1, 2, 5], [8, 5, 1, 7, 9, 2, 6, 4, 3], [1, 3, 8, 9, 4, 7, 2, 5, 6], [6, 9, 2, 3, 5, 1, 8, 7, 4], [7, 4, 5, 2, 8, 6, 3, 1, 9]]\n"
          ]
        }
      ]
    },
    {
      "cell_type": "code",
      "source": [
        ""
      ],
      "metadata": {
        "id": "uhIkKs-KHf_g"
      },
      "execution_count": 7,
      "outputs": []
    }
  ]
}